{
 "cells": [
  {
   "cell_type": "code",
   "execution_count": 1,
   "metadata": {
    "collapsed": true,
    "scrolled": false
   },
   "outputs": [],
   "source": [
    "import pyspark\n",
    "import pyspark.sql.functions as F\n",
    "from pyspark.sql.functions import count, col\n",
    "from pyspark.sql.functions import struct\n",
    "from pyspark import SparkContext\n",
    "from pyspark.sql import SQLContext\n",
    "from pyspark.sql import SparkSession\n",
    "spark= SparkSession.builder.getOrCreate()\n",
    "import pandas as pd\n",
    "Benefit=spark.read.csv(r\"C:\\DB\\benefits_clean_2014.csv\", header=True,inferSchema=True)\n",
    "Rate=spark.read.csv(r\"C:\\DB\\rate_clean_2014.csv\", header=True,inferSchema=True)\n",
    "Attribute=spark.read.csv(r\"C:\\DB\\attributes_clean_2014.csv\", header=True,inferSchema=True)\n",
    "\n"
   ]
  },
  {
   "cell_type": "code",
   "execution_count": 2,
   "metadata": {
    "collapsed": true
   },
   "outputs": [],
   "source": [
    "Attribute=Attribute.select(\"BusinessYear\", \"DiseaseManagementProgramsNumber\", \\\n",
    "                                  \"IssuerActuarialValue\", \\\n",
    "                                  \"MetalLevel\", \"PlanId\", \"WellnessProgramOffered\", \"NationalNetwork\",\"StandardComponentId\")"
   ]
  },
  {
   "cell_type": "code",
   "execution_count": 3,
   "metadata": {
    "collapsed": true
   },
   "outputs": [],
   "source": [
    "Benefit=Benefit.drop('PlanId')\n",
    "Benefit=Benefit.withColumnRenamed(\"StandardComponentId\", \"PlanId2\").drop(\"BusinessYear\")"
   ]
  },
  {
   "cell_type": "code",
   "execution_count": 4,
   "metadata": {
    "collapsed": true
   },
   "outputs": [],
   "source": [
    "Attribute=Attribute.drop('PlanId')\n",
    "Attribute=Attribute.withColumnRenamed(\"StandardComponentId\", \"PlanId3\").drop(\"BusinessYear\")"
   ]
  },
  {
   "cell_type": "code",
   "execution_count": 5,
   "metadata": {
    "collapsed": true
   },
   "outputs": [],
   "source": [
    "#df=Rate.join(Benefit, Benefit.StandardComponentId == Rate.PlanId, 'inner').select(Rate.PlanId,Rate.IndividualRate, Rate.Age ,Benefit.BusinessYear,Benefit.BenefitName,Benefit.CoinsInnTier1Value,Benefit.CoinsInnTier2Value,Benefit.CoinsOutofNetValue,Benefit.LimitQty)\n",
    "df=Rate.join(Benefit, Benefit.PlanId2 == Rate.PlanId, 'inner')\n",
    "df=df.drop('PlanId2')\n",
    "#df=df.join(Attribute, Attribute.PlanId == df.PlanId, 'inner')\n"
   ]
  },
  {
   "cell_type": "code",
   "execution_count": 6,
   "metadata": {
    "collapsed": true
   },
   "outputs": [],
   "source": [
    "df=df.join(Attribute, Attribute.PlanId3 == df.PlanId, 'inner')\n",
    "df=df.drop('PlanId3')"
   ]
  },
  {
   "cell_type": "code",
   "execution_count": 7,
   "metadata": {
    "scrolled": true
   },
   "outputs": [
    {
     "data": {
      "text/plain": [
       "DataFrame[BusinessYear: int, StateCode: string, IssuerId: int, SourceName: string, IssuerId2: int, PlanId: string, RatingAreaId: int, Tobacco: string, Age: string, IndividualRate: double, IndividualTobaccoRate: double, Couple: double, PrimarySubscriberAndOneDependent: double, PrimarySubscriberAndTwoDependents: double, PrimarySubscriberAndThreeOrMoreDependents: double, CoupleAndOneDependent: double, CoupleAndTwoDependents: double, CoupleAndThreeOrMoreDependents: double, BenefitName: string, EHBVarReason: string, IsCovered: string, IsEHB: string, IsExclFromInnMOOP: string, IsExclFromOonMOOP: string, IsStateMandate: string, IsSubjToDedTier1: string, IsSubjToDedTier2: string, IssuerId: int, IssuerId2: int, LimitQty: double, LimitUnit: string, MinimumStay: double, QuantLimitOnSvc: string, SourceName: string, StateCode: string, StateCode2: string, CopayInnTier1Value: double, CopayInnTier1Unit: string, CopayInnTier2Value: double, CopayInnTier2Unit: string, CopayOutofNetValue: double, CopayOutofNetUnit: string, CoinsInnTier1Value: double, CoinsInnTier2Value: double, CoinsOutofNetValue: double, DiseaseManagementProgramsNumber: string, IssuerActuarialValue: double, MetalLevel: string, WellnessProgramOffered: string, NationalNetwork: string]"
      ]
     },
     "execution_count": 7,
     "metadata": {},
     "output_type": "execute_result"
    }
   ],
   "source": [
    "\n",
    "df"
   ]
  },
  {
   "cell_type": "code",
   "execution_count": 8,
   "metadata": {
    "collapsed": true
   },
   "outputs": [],
   "source": [
    "df2=df.select(\"BusinessYear\",\"PlanId\",\"Age\",\"IndividualRate\",\"IsEHB\",\"IsStateMandate\",\"DiseaseManagementProgramsNumber\",\\\n",
    "         \"IssuerActuarialValue\",\"MetalLevel\",\"WellnessProgramOffered\",\"NationalNetwork\",\"CopayInnTier1Value\",\"CoinsInnTier1Value\")"
   ]
  },
  {
   "cell_type": "code",
   "execution_count": 9,
   "metadata": {
    "collapsed": true
   },
   "outputs": [],
   "source": [
    "df3=df2.filter(df2.Age!=\"99\")"
   ]
  },
  {
   "cell_type": "code",
   "execution_count": 10,
   "metadata": {
    "collapsed": true
   },
   "outputs": [],
   "source": [
    "df4=df3.filter(df3.IsEHB!=\"-1\")"
   ]
  },
  {
   "cell_type": "code",
   "execution_count": 11,
   "metadata": {
    "collapsed": true
   },
   "outputs": [],
   "source": [
    "df5=df4.filter(df4.IsStateMandate!=\"-1\")\n",
    "df6=df5.filter(df5.IssuerActuarialValue!=\"-1\")\n",
    "df7=df6.filter(df6.MetalLevel!=\"-1\")"
   ]
  },
  {
   "cell_type": "code",
   "execution_count": 12,
   "metadata": {
    "collapsed": true
   },
   "outputs": [],
   "source": [
    "df8=df7.filter(df7.WellnessProgramOffered!=\"-1\")\n",
    "df9=df8.filter(df8.NationalNetwork!=\"-1\")\n",
    "df10=df9.filter(df9.CopayInnTier1Value!=\"-1\")\n",
    "df11=df10.filter(df10.CoinsInnTier1Value!=\"-1\")"
   ]
  },
  {
   "cell_type": "code",
   "execution_count": 13,
   "metadata": {
    "collapsed": true,
    "scrolled": true
   },
   "outputs": [],
   "source": [
    "data=df11.filter(df11.IndividualRate.isNotNull())\n",
    "data=data.filter(data.IsEHB.isNotNull())\n",
    "data=data.filter(data.IsStateMandate.isNotNull())\n",
    "data=data.filter(data.IssuerActuarialValue.isNotNull())\n",
    "data=data.filter(data.MetalLevel.isNotNull())\n",
    "data=data.filter(data.WellnessProgramOffered.isNotNull())\n",
    "data=data.filter(data.NationalNetwork.isNotNull())\n",
    "data=data.filter(data.CopayInnTier1Value.isNotNull())\n",
    "data=data.filter(data.CoinsInnTier1Value.isNotNull())"
   ]
  },
  {
   "cell_type": "code",
   "execution_count": 14,
   "metadata": {
    "collapsed": true
   },
   "outputs": [],
   "source": [
    "data=data.distinct()"
   ]
  },
  {
   "cell_type": "code",
   "execution_count": 15,
   "metadata": {
    "collapsed": true
   },
   "outputs": [],
   "source": [
    "data=data.na.replace(\"0-20\",\"19\",\"Age\")\n",
    "data=data.na.replace(\"65 and over\",\"66\",\"Age\")\n",
    "data=data.na.replace(\"No\",\"0\",\"IsEHB\")\n",
    "data=data.na.replace(\"Yes\",\"1\",\"IsEHB\")\n",
    "data=data.na.replace(\"No\",\"0\",\"IsStateMandate\")\n",
    "data=data.na.replace(\"Yes\",\"1\",\"IsStateMandate\")\n",
    "data=data.na.replace(\"Bronze\",\"1\",\"MetalLevel\")\n",
    "data=data.na.replace(\"Silver\",\"2\",\"MetalLevel\")\n",
    "data=data.na.replace(\"Gold\",\"3\",\"MetalLevel\")\n",
    "data=data.na.replace(\"Platinum\",\"4\",\"MetalLevel\")\n",
    "data=data.na.replace(\"High\",\"3\",\"MetalLevel\")\n",
    "data=data.na.replace(\"Low\",\"1\",\"MetalLevel\")\n",
    "data=data.na.replace(\"Catastrophic\",\"0\",\"MetalLevel\")\n",
    "data=data.na.replace(\"NO\",\"0\",\"WellnessProgramOffered\")\n",
    "data=data.na.replace(\"YES\",\"1\",\"WellnessProgramOffered\")\n",
    "data=data.na.replace(\"NO\",\"0\",\"NationalNetwork\")\n",
    "data=data.na.replace(\"YES\",\"1\",\"NationalNetwork\")\n",
    "\n",
    "data=data.na.replace(\"65 and over\",\"66\",\"Age\")"
   ]
  },
  {
   "cell_type": "code",
   "execution_count": 16,
   "metadata": {
    "collapsed": true
   },
   "outputs": [],
   "source": [
    "data = data.withColumn(\"Age\",data[\"Age\"].cast('int'))\n",
    "data = data.withColumn(\"IsEHB\",data[\"IsEHB\"].cast('int'))\n",
    "data = data.withColumn(\"IsStateMandate\",data[\"IsStateMandate\"].cast('int'))\n",
    "data = data.withColumn(\"DiseaseManagementProgramsNumber\",data[\"DiseaseManagementProgramsNumber\"].cast('int'))\n",
    "data = data.withColumn(\"MetalLevel\",data[\"MetalLevel\"].cast('int'))\n",
    "data = data.withColumn(\"WellnessProgramOffered\",data[\"WellnessProgramOffered\"].cast('int'))\n",
    "data = data.withColumn(\"NationalNetwork\",data[\"NationalNetwork\"].cast('int'))"
   ]
  },
  {
   "cell_type": "code",
   "execution_count": 17,
   "metadata": {
    "collapsed": true
   },
   "outputs": [],
   "source": [
    "data=data.drop(\"PlanId\")\n",
    "data=data.drop(\"BusinessYear\")"
   ]
  },
  {
   "cell_type": "code",
   "execution_count": 23,
   "metadata": {
    "collapsed": true
   },
   "outputs": [],
   "source": [
    "from pyspark.ml.linalg import DenseVector\n",
    "#input_data= data.rdd.map(lambda x: (x[1],DenseVector(x[0],x[2:])))\n",
    "#input_data= data.rdd.map(lambda x: (x[1],x[0],DenseVector(x[2:])))\n",
    "input_data= data.rdd.map(lambda x: (x[1],x[0],x[2],x[3],x[4],x[5],x[6],x[7],x[8],x[9],x[10]))\n"
   ]
  },
  {
   "cell_type": "code",
   "execution_count": 24,
   "metadata": {
    "collapsed": true
   },
   "outputs": [],
   "source": [
    "data_model = spark.createDataFrame(input_data, [\"label\", \"F1\",\"F2\",\"F3\",\"F4\",\"F5\",\"F6\",\"F7\",\"F8\",\"F9\",\"F10\"])\n"
   ]
  },
  {
   "cell_type": "code",
   "execution_count": 25,
   "metadata": {
    "scrolled": true
   },
   "outputs": [
    {
     "name": "stdout",
     "output_type": "stream",
     "text": [
      "+-----+---+---+---+---+-----+---+---+---+----+---+\n",
      "|label| F1| F2| F3| F4|   F5| F6| F7| F8|  F9|F10|\n",
      "+-----+---+---+---+---+-----+---+---+---+----+---+\n",
      "| 75.4| 19|  0|  0|  7|78.42|  3|  1|  1| 0.0|1.0|\n",
      "| 75.4| 19|  0|  1|  7|78.42|  3|  1|  1| 0.0|0.3|\n",
      "| 75.4| 19|  1|  0|  7|78.42|  3|  1|  1| 0.0|0.3|\n",
      "| 75.4| 19|  1|  1|  7|78.42|  3|  1|  1| 0.0|0.0|\n",
      "|76.71| 19|  0|  0|  7|78.42|  3|  1|  1| 0.0|0.0|\n",
      "|76.71| 19|  0|  0|  7|78.42|  3|  1|  1| 0.0|0.3|\n",
      "|76.71| 19|  0|  0|  7|78.42|  3|  1|  1| 0.0|1.0|\n",
      "|76.71| 19|  0|  1|  7|78.42|  3|  1|  1| 0.0|0.3|\n",
      "|76.71| 19|  1|  0|  7|78.42|  3|  1|  1| 0.0|0.0|\n",
      "|76.71| 19|  1|  0|  7|78.42|  3|  1|  1| 0.0|0.3|\n",
      "|76.71| 19|  1|  0|  7|78.42|  3|  1|  1|10.0|0.0|\n",
      "|76.71| 19|  1|  0|  7|78.42|  3|  1|  1|50.0|0.0|\n",
      "|78.03| 19|  0|  0|  7|78.42|  3|  1|  1| 0.0|0.0|\n",
      "|78.03| 19|  0|  0|  7|78.42|  3|  1|  1| 0.0|0.3|\n",
      "|78.03| 19|  1|  0|  7|78.42|  3|  1|  1|50.0|0.0|\n",
      "|79.38| 19|  0|  0|  7|78.42|  3|  1|  1| 0.0|0.3|\n",
      "|79.38| 19|  0|  1|  7|78.42|  3|  1|  1| 0.0|0.3|\n",
      "|79.38| 19|  1|  0|  7|78.42|  3|  1|  1|40.0|0.0|\n",
      "| 86.6| 19|  0|  0|  7|78.42|  3|  1|  1| 0.0|0.0|\n",
      "| 86.6| 19|  0|  0|  7|78.42|  3|  1|  1| 0.0|0.3|\n",
      "+-----+---+---+---+---+-----+---+---+---+----+---+\n",
      "only showing top 20 rows\n",
      "\n"
     ]
    }
   ],
   "source": [
    "train,test=data_model.randomSplit([.0001,.0001],seed=321)\n",
    "train.show()"
   ]
  },
  {
   "cell_type": "code",
   "execution_count": 26,
   "metadata": {
    "collapsed": true
   },
   "outputs": [],
   "source": [
    "train.write.csv(r'C:\\Users\\techi\\Desktop\\data.csv')"
   ]
  }
 ],
 "metadata": {
  "kernelspec": {
   "display_name": "Python 3",
   "language": "python",
   "name": "python3"
  },
  "language_info": {
   "codemirror_mode": {
    "name": "ipython",
    "version": 3
   },
   "file_extension": ".py",
   "mimetype": "text/x-python",
   "name": "python",
   "nbconvert_exporter": "python",
   "pygments_lexer": "ipython3",
   "version": "3.6.3"
  }
 },
 "nbformat": 4,
 "nbformat_minor": 2
}
